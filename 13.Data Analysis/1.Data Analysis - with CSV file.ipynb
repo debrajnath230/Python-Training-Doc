{
 "cells": [
  {
   "cell_type": "markdown",
   "id": "2935a24c-5b82-45b3-8de8-56588696891f",
   "metadata": {},
   "source": [
    "# 1. Basic Python"
   ]
  },
  {
   "cell_type": "code",
   "execution_count": 3,
   "id": "675f01a8-f7fc-45f1-8e87-5911640f0e00",
   "metadata": {},
   "outputs": [
    {
     "name": "stdout",
     "output_type": "stream",
     "text": [
      "Hello World\n"
     ]
    }
   ],
   "source": [
    "print('Hello World')"
   ]
  },
  {
   "cell_type": "markdown",
   "id": "5d59651e-9805-45b3-a038-d326b99c379c",
   "metadata": {},
   "source": [
    "# 2. Reading a csv file"
   ]
  },
  {
   "cell_type": "code",
   "execution_count": 6,
   "id": "a1028843-2d7e-4400-a537-4e60f70672a6",
   "metadata": {
    "scrolled": true
   },
   "outputs": [
    {
     "name": "stdout",
     "output_type": "stream",
     "text": [
      "              0    1          2             3           4       5  \\\n",
      "0    Unnamed: 0    0          1             2           3       4   \n",
      "1             0  mpg  cylinders  displacement  horsepower  weight   \n",
      "2             1   18          8           307         130    3504   \n",
      "3             2   15          8           350         165    3693   \n",
      "4             3   18          8           318         150    3436   \n",
      "..          ...  ...        ...           ...         ...     ...   \n",
      "395         394   27          4           140          86    2790   \n",
      "396         395   44          4            97          52    2130   \n",
      "397         396   32          4           135          84    2295   \n",
      "398         397   28          4           120          79    2625   \n",
      "399         398   31          4           119          82    2720   \n",
      "\n",
      "                6           7       8                          9  \n",
      "0               5           6       7                          8  \n",
      "1    acceleration  model year  origin                   car name  \n",
      "2              12          70       1  chevrolet chevelle malibu  \n",
      "3            11.5          70       1          buick skylark 320  \n",
      "4              11          70       1         plymouth satellite  \n",
      "..            ...         ...     ...                        ...  \n",
      "395          15.6          82       1            ford mustang gl  \n",
      "396          24.6          82       2                  vw pickup  \n",
      "397          11.6          82       1              dodge rampage  \n",
      "398          18.6          82       1                ford ranger  \n",
      "399          19.4          82       1                 chevy s-10  \n",
      "\n",
      "[400 rows x 10 columns]\n"
     ]
    }
   ],
   "source": [
    "import pandas as pd\n",
    "path = \"C://Users//nath.debraj//Desktop//Python Codes//Python_training_tutordude//13.Data Analysis//CONTENT FILES//auto-mpg.csv\"\n",
    "df=pd.read_csv(path, header= None)\n",
    "print(df)"
   ]
  },
  {
   "cell_type": "markdown",
   "id": "92ab4c99-c94f-4979-9bb2-932868ab96ea",
   "metadata": {},
   "source": [
    "# 3. Methods to view file"
   ]
  },
  {
   "cell_type": "code",
   "execution_count": 9,
   "id": "5073de13-35f2-44ef-93b5-c18f64b4437f",
   "metadata": {},
   "outputs": [
    {
     "data": {
      "text/html": [
       "<div>\n",
       "<style scoped>\n",
       "    .dataframe tbody tr th:only-of-type {\n",
       "        vertical-align: middle;\n",
       "    }\n",
       "\n",
       "    .dataframe tbody tr th {\n",
       "        vertical-align: top;\n",
       "    }\n",
       "\n",
       "    .dataframe thead th {\n",
       "        text-align: right;\n",
       "    }\n",
       "</style>\n",
       "<table border=\"1\" class=\"dataframe\">\n",
       "  <thead>\n",
       "    <tr style=\"text-align: right;\">\n",
       "      <th></th>\n",
       "      <th>0</th>\n",
       "      <th>1</th>\n",
       "      <th>2</th>\n",
       "      <th>3</th>\n",
       "      <th>4</th>\n",
       "      <th>5</th>\n",
       "      <th>6</th>\n",
       "      <th>7</th>\n",
       "      <th>8</th>\n",
       "      <th>9</th>\n",
       "    </tr>\n",
       "  </thead>\n",
       "  <tbody>\n",
       "    <tr>\n",
       "      <th>0</th>\n",
       "      <td>Unnamed: 0</td>\n",
       "      <td>0</td>\n",
       "      <td>1</td>\n",
       "      <td>2</td>\n",
       "      <td>3</td>\n",
       "      <td>4</td>\n",
       "      <td>5</td>\n",
       "      <td>6</td>\n",
       "      <td>7</td>\n",
       "      <td>8</td>\n",
       "    </tr>\n",
       "    <tr>\n",
       "      <th>1</th>\n",
       "      <td>0</td>\n",
       "      <td>mpg</td>\n",
       "      <td>cylinders</td>\n",
       "      <td>displacement</td>\n",
       "      <td>horsepower</td>\n",
       "      <td>weight</td>\n",
       "      <td>acceleration</td>\n",
       "      <td>model year</td>\n",
       "      <td>origin</td>\n",
       "      <td>car name</td>\n",
       "    </tr>\n",
       "    <tr>\n",
       "      <th>2</th>\n",
       "      <td>1</td>\n",
       "      <td>18</td>\n",
       "      <td>8</td>\n",
       "      <td>307</td>\n",
       "      <td>130</td>\n",
       "      <td>3504</td>\n",
       "      <td>12</td>\n",
       "      <td>70</td>\n",
       "      <td>1</td>\n",
       "      <td>chevrolet chevelle malibu</td>\n",
       "    </tr>\n",
       "    <tr>\n",
       "      <th>3</th>\n",
       "      <td>2</td>\n",
       "      <td>15</td>\n",
       "      <td>8</td>\n",
       "      <td>350</td>\n",
       "      <td>165</td>\n",
       "      <td>3693</td>\n",
       "      <td>11.5</td>\n",
       "      <td>70</td>\n",
       "      <td>1</td>\n",
       "      <td>buick skylark 320</td>\n",
       "    </tr>\n",
       "    <tr>\n",
       "      <th>4</th>\n",
       "      <td>3</td>\n",
       "      <td>18</td>\n",
       "      <td>8</td>\n",
       "      <td>318</td>\n",
       "      <td>150</td>\n",
       "      <td>3436</td>\n",
       "      <td>11</td>\n",
       "      <td>70</td>\n",
       "      <td>1</td>\n",
       "      <td>plymouth satellite</td>\n",
       "    </tr>\n",
       "  </tbody>\n",
       "</table>\n",
       "</div>"
      ],
      "text/plain": [
       "            0    1          2             3           4       5             6  \\\n",
       "0  Unnamed: 0    0          1             2           3       4             5   \n",
       "1           0  mpg  cylinders  displacement  horsepower  weight  acceleration   \n",
       "2           1   18          8           307         130    3504            12   \n",
       "3           2   15          8           350         165    3693          11.5   \n",
       "4           3   18          8           318         150    3436            11   \n",
       "\n",
       "            7       8                          9  \n",
       "0           6       7                          8  \n",
       "1  model year  origin                   car name  \n",
       "2          70       1  chevrolet chevelle malibu  \n",
       "3          70       1          buick skylark 320  \n",
       "4          70       1         plymouth satellite  "
      ]
     },
     "execution_count": 9,
     "metadata": {},
     "output_type": "execute_result"
    }
   ],
   "source": [
    "df.head(5) # to read top 4 of the file"
   ]
  },
  {
   "cell_type": "code",
   "execution_count": 8,
   "id": "b2023283-58bc-4989-a189-7604cbd39452",
   "metadata": {},
   "outputs": [
    {
     "data": {
      "text/html": [
       "<div>\n",
       "<style scoped>\n",
       "    .dataframe tbody tr th:only-of-type {\n",
       "        vertical-align: middle;\n",
       "    }\n",
       "\n",
       "    .dataframe tbody tr th {\n",
       "        vertical-align: top;\n",
       "    }\n",
       "\n",
       "    .dataframe thead th {\n",
       "        text-align: right;\n",
       "    }\n",
       "</style>\n",
       "<table border=\"1\" class=\"dataframe\">\n",
       "  <thead>\n",
       "    <tr style=\"text-align: right;\">\n",
       "      <th></th>\n",
       "      <th>0</th>\n",
       "      <th>1</th>\n",
       "      <th>2</th>\n",
       "      <th>3</th>\n",
       "      <th>4</th>\n",
       "      <th>5</th>\n",
       "      <th>6</th>\n",
       "      <th>7</th>\n",
       "      <th>8</th>\n",
       "      <th>9</th>\n",
       "    </tr>\n",
       "  </thead>\n",
       "  <tbody>\n",
       "    <tr>\n",
       "      <th>395</th>\n",
       "      <td>394</td>\n",
       "      <td>27</td>\n",
       "      <td>4</td>\n",
       "      <td>140</td>\n",
       "      <td>86</td>\n",
       "      <td>2790</td>\n",
       "      <td>15.6</td>\n",
       "      <td>82</td>\n",
       "      <td>1</td>\n",
       "      <td>ford mustang gl</td>\n",
       "    </tr>\n",
       "    <tr>\n",
       "      <th>396</th>\n",
       "      <td>395</td>\n",
       "      <td>44</td>\n",
       "      <td>4</td>\n",
       "      <td>97</td>\n",
       "      <td>52</td>\n",
       "      <td>2130</td>\n",
       "      <td>24.6</td>\n",
       "      <td>82</td>\n",
       "      <td>2</td>\n",
       "      <td>vw pickup</td>\n",
       "    </tr>\n",
       "    <tr>\n",
       "      <th>397</th>\n",
       "      <td>396</td>\n",
       "      <td>32</td>\n",
       "      <td>4</td>\n",
       "      <td>135</td>\n",
       "      <td>84</td>\n",
       "      <td>2295</td>\n",
       "      <td>11.6</td>\n",
       "      <td>82</td>\n",
       "      <td>1</td>\n",
       "      <td>dodge rampage</td>\n",
       "    </tr>\n",
       "    <tr>\n",
       "      <th>398</th>\n",
       "      <td>397</td>\n",
       "      <td>28</td>\n",
       "      <td>4</td>\n",
       "      <td>120</td>\n",
       "      <td>79</td>\n",
       "      <td>2625</td>\n",
       "      <td>18.6</td>\n",
       "      <td>82</td>\n",
       "      <td>1</td>\n",
       "      <td>ford ranger</td>\n",
       "    </tr>\n",
       "    <tr>\n",
       "      <th>399</th>\n",
       "      <td>398</td>\n",
       "      <td>31</td>\n",
       "      <td>4</td>\n",
       "      <td>119</td>\n",
       "      <td>82</td>\n",
       "      <td>2720</td>\n",
       "      <td>19.4</td>\n",
       "      <td>82</td>\n",
       "      <td>1</td>\n",
       "      <td>chevy s-10</td>\n",
       "    </tr>\n",
       "  </tbody>\n",
       "</table>\n",
       "</div>"
      ],
      "text/plain": [
       "       0   1  2    3   4     5     6   7  8                9\n",
       "395  394  27  4  140  86  2790  15.6  82  1  ford mustang gl\n",
       "396  395  44  4   97  52  2130  24.6  82  2        vw pickup\n",
       "397  396  32  4  135  84  2295  11.6  82  1    dodge rampage\n",
       "398  397  28  4  120  79  2625  18.6  82  1      ford ranger\n",
       "399  398  31  4  119  82  2720  19.4  82  1       chevy s-10"
      ]
     },
     "execution_count": 8,
     "metadata": {},
     "output_type": "execute_result"
    }
   ],
   "source": [
    "df.tail(5) # to bottom top 4 of the file"
   ]
  },
  {
   "cell_type": "code",
   "execution_count": 10,
   "id": "998a2a90-5b6b-4d87-bca3-64a773854c55",
   "metadata": {},
   "outputs": [],
   "source": [
    "df.to_csv(path) # Save the file"
   ]
  },
  {
   "cell_type": "code",
   "execution_count": 11,
   "id": "908b346a-3cd2-46d3-b751-2712b570395a",
   "metadata": {},
   "outputs": [
    {
     "data": {
      "text/plain": [
       "0    object\n",
       "1    object\n",
       "2    object\n",
       "3    object\n",
       "4    object\n",
       "5    object\n",
       "6    object\n",
       "7    object\n",
       "8    object\n",
       "9    object\n",
       "dtype: object"
      ]
     },
     "execution_count": 11,
     "metadata": {},
     "output_type": "execute_result"
    }
   ],
   "source": [
    "df.dtypes # to check datatype of a file"
   ]
  },
  {
   "cell_type": "code",
   "execution_count": 12,
   "id": "0832c595-180b-498a-b05f-4da42cb4ec24",
   "metadata": {},
   "outputs": [
    {
     "data": {
      "text/html": [
       "<div>\n",
       "<style scoped>\n",
       "    .dataframe tbody tr th:only-of-type {\n",
       "        vertical-align: middle;\n",
       "    }\n",
       "\n",
       "    .dataframe tbody tr th {\n",
       "        vertical-align: top;\n",
       "    }\n",
       "\n",
       "    .dataframe thead th {\n",
       "        text-align: right;\n",
       "    }\n",
       "</style>\n",
       "<table border=\"1\" class=\"dataframe\">\n",
       "  <thead>\n",
       "    <tr style=\"text-align: right;\">\n",
       "      <th></th>\n",
       "      <th>0</th>\n",
       "      <th>1</th>\n",
       "      <th>2</th>\n",
       "      <th>3</th>\n",
       "      <th>4</th>\n",
       "      <th>5</th>\n",
       "      <th>6</th>\n",
       "      <th>7</th>\n",
       "      <th>8</th>\n",
       "      <th>9</th>\n",
       "    </tr>\n",
       "  </thead>\n",
       "  <tbody>\n",
       "    <tr>\n",
       "      <th>count</th>\n",
       "      <td>400</td>\n",
       "      <td>400</td>\n",
       "      <td>400</td>\n",
       "      <td>400</td>\n",
       "      <td>400</td>\n",
       "      <td>400</td>\n",
       "      <td>400</td>\n",
       "      <td>400</td>\n",
       "      <td>400</td>\n",
       "      <td>400</td>\n",
       "    </tr>\n",
       "    <tr>\n",
       "      <th>unique</th>\n",
       "      <td>400</td>\n",
       "      <td>131</td>\n",
       "      <td>7</td>\n",
       "      <td>84</td>\n",
       "      <td>96</td>\n",
       "      <td>353</td>\n",
       "      <td>97</td>\n",
       "      <td>15</td>\n",
       "      <td>5</td>\n",
       "      <td>307</td>\n",
       "    </tr>\n",
       "    <tr>\n",
       "      <th>top</th>\n",
       "      <td>Unnamed: 0</td>\n",
       "      <td>13</td>\n",
       "      <td>4</td>\n",
       "      <td>97</td>\n",
       "      <td>150</td>\n",
       "      <td>1985</td>\n",
       "      <td>14.5</td>\n",
       "      <td>73</td>\n",
       "      <td>1</td>\n",
       "      <td>ford pinto</td>\n",
       "    </tr>\n",
       "    <tr>\n",
       "      <th>freq</th>\n",
       "      <td>1</td>\n",
       "      <td>20</td>\n",
       "      <td>204</td>\n",
       "      <td>21</td>\n",
       "      <td>22</td>\n",
       "      <td>4</td>\n",
       "      <td>23</td>\n",
       "      <td>40</td>\n",
       "      <td>249</td>\n",
       "      <td>6</td>\n",
       "    </tr>\n",
       "  </tbody>\n",
       "</table>\n",
       "</div>"
      ],
      "text/plain": [
       "                 0    1    2    3    4     5     6    7    8           9\n",
       "count          400  400  400  400  400   400   400  400  400         400\n",
       "unique         400  131    7   84   96   353    97   15    5         307\n",
       "top     Unnamed: 0   13    4   97  150  1985  14.5   73    1  ford pinto\n",
       "freq             1   20  204   21   22     4    23   40  249           6"
      ]
     },
     "execution_count": 12,
     "metadata": {},
     "output_type": "execute_result"
    }
   ],
   "source": [
    "df.describe() #to see a statiscial summary"
   ]
  },
  {
   "cell_type": "code",
   "execution_count": 13,
   "id": "1258af20-aed8-49fa-bdf7-d201d07cbde3",
   "metadata": {},
   "outputs": [
    {
     "data": {
      "text/html": [
       "<div>\n",
       "<style scoped>\n",
       "    .dataframe tbody tr th:only-of-type {\n",
       "        vertical-align: middle;\n",
       "    }\n",
       "\n",
       "    .dataframe tbody tr th {\n",
       "        vertical-align: top;\n",
       "    }\n",
       "\n",
       "    .dataframe thead th {\n",
       "        text-align: right;\n",
       "    }\n",
       "</style>\n",
       "<table border=\"1\" class=\"dataframe\">\n",
       "  <thead>\n",
       "    <tr style=\"text-align: right;\">\n",
       "      <th></th>\n",
       "      <th>0</th>\n",
       "      <th>1</th>\n",
       "      <th>2</th>\n",
       "      <th>3</th>\n",
       "      <th>4</th>\n",
       "      <th>5</th>\n",
       "      <th>6</th>\n",
       "      <th>7</th>\n",
       "      <th>8</th>\n",
       "      <th>9</th>\n",
       "    </tr>\n",
       "  </thead>\n",
       "  <tbody>\n",
       "    <tr>\n",
       "      <th>count</th>\n",
       "      <td>400</td>\n",
       "      <td>400</td>\n",
       "      <td>400</td>\n",
       "      <td>400</td>\n",
       "      <td>400</td>\n",
       "      <td>400</td>\n",
       "      <td>400</td>\n",
       "      <td>400</td>\n",
       "      <td>400</td>\n",
       "      <td>400</td>\n",
       "    </tr>\n",
       "    <tr>\n",
       "      <th>unique</th>\n",
       "      <td>400</td>\n",
       "      <td>131</td>\n",
       "      <td>7</td>\n",
       "      <td>84</td>\n",
       "      <td>96</td>\n",
       "      <td>353</td>\n",
       "      <td>97</td>\n",
       "      <td>15</td>\n",
       "      <td>5</td>\n",
       "      <td>307</td>\n",
       "    </tr>\n",
       "    <tr>\n",
       "      <th>top</th>\n",
       "      <td>Unnamed: 0</td>\n",
       "      <td>13</td>\n",
       "      <td>4</td>\n",
       "      <td>97</td>\n",
       "      <td>150</td>\n",
       "      <td>1985</td>\n",
       "      <td>14.5</td>\n",
       "      <td>73</td>\n",
       "      <td>1</td>\n",
       "      <td>ford pinto</td>\n",
       "    </tr>\n",
       "    <tr>\n",
       "      <th>freq</th>\n",
       "      <td>1</td>\n",
       "      <td>20</td>\n",
       "      <td>204</td>\n",
       "      <td>21</td>\n",
       "      <td>22</td>\n",
       "      <td>4</td>\n",
       "      <td>23</td>\n",
       "      <td>40</td>\n",
       "      <td>249</td>\n",
       "      <td>6</td>\n",
       "    </tr>\n",
       "  </tbody>\n",
       "</table>\n",
       "</div>"
      ],
      "text/plain": [
       "                 0    1    2    3    4     5     6    7    8           9\n",
       "count          400  400  400  400  400   400   400  400  400         400\n",
       "unique         400  131    7   84   96   353    97   15    5         307\n",
       "top     Unnamed: 0   13    4   97  150  1985  14.5   73    1  ford pinto\n",
       "freq             1   20  204   21   22     4    23   40  249           6"
      ]
     },
     "execution_count": 13,
     "metadata": {},
     "output_type": "execute_result"
    }
   ],
   "source": [
    "df.describe(include = 'all') # to see full statistical summary"
   ]
  },
  {
   "cell_type": "code",
   "execution_count": 14,
   "id": "1c596fb1-ffeb-42c4-b8e7-5b2a92573479",
   "metadata": {},
   "outputs": [
    {
     "name": "stdout",
     "output_type": "stream",
     "text": [
      "<class 'pandas.core.frame.DataFrame'>\n",
      "RangeIndex: 400 entries, 0 to 399\n",
      "Data columns (total 10 columns):\n",
      " #   Column  Non-Null Count  Dtype \n",
      "---  ------  --------------  ----- \n",
      " 0   0       400 non-null    object\n",
      " 1   1       400 non-null    object\n",
      " 2   2       400 non-null    object\n",
      " 3   3       400 non-null    object\n",
      " 4   4       400 non-null    object\n",
      " 5   5       400 non-null    object\n",
      " 6   6       400 non-null    object\n",
      " 7   7       400 non-null    object\n",
      " 8   8       400 non-null    object\n",
      " 9   9       400 non-null    object\n",
      "dtypes: object(10)\n",
      "memory usage: 31.4+ KB\n"
     ]
    }
   ],
   "source": [
    "df.info() # it provides coincisde view of data"
   ]
  },
  {
   "cell_type": "code",
   "execution_count": 16,
   "id": "032535d0-12ac-45e2-9cf3-c34555133b7c",
   "metadata": {},
   "outputs": [
    {
     "data": {
      "text/plain": [
       "Index([0, 1, 2, 3, 4, 5, 6, 7, 8, 9], dtype='int64')"
      ]
     },
     "execution_count": 16,
     "metadata": {},
     "output_type": "execute_result"
    }
   ],
   "source": [
    "df.columns # deisplys columns that are occupied"
   ]
  },
  {
   "cell_type": "code",
   "execution_count": null,
   "id": "d5155d91-8364-4c9a-b2f0-b996a8a0534b",
   "metadata": {},
   "outputs": [],
   "source": []
  }
 ],
 "metadata": {
  "kernelspec": {
   "display_name": "Python 3 (ipykernel)",
   "language": "python",
   "name": "python3"
  },
  "language_info": {
   "codemirror_mode": {
    "name": "ipython",
    "version": 3
   },
   "file_extension": ".py",
   "mimetype": "text/x-python",
   "name": "python",
   "nbconvert_exporter": "python",
   "pygments_lexer": "ipython3",
   "version": "3.12.0"
  }
 },
 "nbformat": 4,
 "nbformat_minor": 5
}
